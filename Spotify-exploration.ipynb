{
 "cells": [
  {
   "cell_type": "code",
   "execution_count": 5,
   "metadata": {},
   "outputs": [],
   "source": [
    "import pandas as pd\n",
    "import numpy as np\n",
    "from sklearn import preprocessing\n",
    "import matplotlib.pyplot as plt \n",
    "plt.rc(\"font\", size=14)\n",
    "from sklearn.linear_model import LogisticRegression\n",
    "from sklearn.model_selection import train_test_split\n",
    "import seaborn as sns\n",
    "sns.set(style=\"white\")\n",
    "sns.set(style=\"whitegrid\", color_codes=True)"
   ]
  },
  {
   "cell_type": "code",
   "execution_count": 6,
   "metadata": {},
   "outputs": [
    {
     "name": "stdout",
     "output_type": "stream",
     "text": [
      "(99999, 20)\n",
      "['session_id', 'session_length', 'track_id_clean', 'skip_1', 'skip_2', 'skip_3', 'not_skipped', 'context_switch', 'no_pause_before_play', 'short_pause_before_play', 'long_pause_before_play', 'hist_user_behavior_n_seekfwd', 'hist_user_behavior_n_seekback', 'hist_user_behavior_is_shuffle', 'hour_of_day', 'date', 'premium', 'context_type', 'hist_user_behavior_reason_start', 'hist_user_behavior_reason_end']\n",
      "2\n"
     ]
    }
   ],
   "source": [
    "#import the dataset, check size and columns\n",
    "data = pd.read_excel (r'C:\\Users\\panda\\python\\Spotify_Dataset.xlsx', index_col=1)\n",
    "data = data.dropna()\n",
    "print(data.shape)\n",
    "print(list(data.columns))\n",
    "print(data.ndim)"
   ]
  },
  {
   "cell_type": "code",
   "execution_count": 7,
   "metadata": {},
   "outputs": [
    {
     "data": {
      "text/html": [
       "<div>\n",
       "<style scoped>\n",
       "    .dataframe tbody tr th:only-of-type {\n",
       "        vertical-align: middle;\n",
       "    }\n",
       "\n",
       "    .dataframe tbody tr th {\n",
       "        vertical-align: top;\n",
       "    }\n",
       "\n",
       "    .dataframe thead th {\n",
       "        text-align: right;\n",
       "    }\n",
       "</style>\n",
       "<table border=\"1\" class=\"dataframe\">\n",
       "  <thead>\n",
       "    <tr style=\"text-align: right;\">\n",
       "      <th></th>\n",
       "      <th>session_id</th>\n",
       "      <th>session_length</th>\n",
       "      <th>track_id_clean</th>\n",
       "      <th>skip_1</th>\n",
       "      <th>skip_2</th>\n",
       "      <th>skip_3</th>\n",
       "      <th>not_skipped</th>\n",
       "      <th>context_switch</th>\n",
       "      <th>no_pause_before_play</th>\n",
       "      <th>short_pause_before_play</th>\n",
       "      <th>long_pause_before_play</th>\n",
       "      <th>hist_user_behavior_n_seekfwd</th>\n",
       "      <th>hist_user_behavior_n_seekback</th>\n",
       "      <th>hist_user_behavior_is_shuffle</th>\n",
       "      <th>hour_of_day</th>\n",
       "      <th>date</th>\n",
       "      <th>premium</th>\n",
       "      <th>context_type</th>\n",
       "      <th>hist_user_behavior_reason_start</th>\n",
       "      <th>hist_user_behavior_reason_end</th>\n",
       "    </tr>\n",
       "    <tr>\n",
       "      <th>session_position</th>\n",
       "      <th></th>\n",
       "      <th></th>\n",
       "      <th></th>\n",
       "      <th></th>\n",
       "      <th></th>\n",
       "      <th></th>\n",
       "      <th></th>\n",
       "      <th></th>\n",
       "      <th></th>\n",
       "      <th></th>\n",
       "      <th></th>\n",
       "      <th></th>\n",
       "      <th></th>\n",
       "      <th></th>\n",
       "      <th></th>\n",
       "      <th></th>\n",
       "      <th></th>\n",
       "      <th></th>\n",
       "      <th></th>\n",
       "      <th></th>\n",
       "    </tr>\n",
       "  </thead>\n",
       "  <tbody>\n",
       "    <tr>\n",
       "      <th>1</th>\n",
       "      <td>1_0000015a-8bee-425e-bc96-25042a1a1cab</td>\n",
       "      <td>20</td>\n",
       "      <td>t_f56065b2-b26f-4080-a121-ff3bf5d25fd6</td>\n",
       "      <td>False</td>\n",
       "      <td>False</td>\n",
       "      <td>False</td>\n",
       "      <td>True</td>\n",
       "      <td>0</td>\n",
       "      <td>0</td>\n",
       "      <td>0</td>\n",
       "      <td>0</td>\n",
       "      <td>0</td>\n",
       "      <td>0</td>\n",
       "      <td>False</td>\n",
       "      <td>19</td>\n",
       "      <td>2018-07-15</td>\n",
       "      <td>True</td>\n",
       "      <td>radio</td>\n",
       "      <td>fwdbtn</td>\n",
       "      <td>trackdone</td>\n",
       "    </tr>\n",
       "    <tr>\n",
       "      <th>2</th>\n",
       "      <td>1_0000015a-8bee-425e-bc96-25042a1a1cab</td>\n",
       "      <td>20</td>\n",
       "      <td>t_447a276d-5b3d-44cf-bcbe-834ad91e7b72</td>\n",
       "      <td>False</td>\n",
       "      <td>False</td>\n",
       "      <td>True</td>\n",
       "      <td>False</td>\n",
       "      <td>0</td>\n",
       "      <td>1</td>\n",
       "      <td>0</td>\n",
       "      <td>0</td>\n",
       "      <td>0</td>\n",
       "      <td>0</td>\n",
       "      <td>False</td>\n",
       "      <td>19</td>\n",
       "      <td>2018-07-15</td>\n",
       "      <td>True</td>\n",
       "      <td>radio</td>\n",
       "      <td>trackdone</td>\n",
       "      <td>fwdbtn</td>\n",
       "    </tr>\n",
       "    <tr>\n",
       "      <th>3</th>\n",
       "      <td>1_0000015a-8bee-425e-bc96-25042a1a1cab</td>\n",
       "      <td>20</td>\n",
       "      <td>t_07a8a863-2f51-4e64-ae3c-2fac451a0651</td>\n",
       "      <td>False</td>\n",
       "      <td>False</td>\n",
       "      <td>True</td>\n",
       "      <td>False</td>\n",
       "      <td>0</td>\n",
       "      <td>1</td>\n",
       "      <td>0</td>\n",
       "      <td>0</td>\n",
       "      <td>0</td>\n",
       "      <td>0</td>\n",
       "      <td>False</td>\n",
       "      <td>19</td>\n",
       "      <td>2018-07-15</td>\n",
       "      <td>True</td>\n",
       "      <td>radio</td>\n",
       "      <td>fwdbtn</td>\n",
       "      <td>fwdbtn</td>\n",
       "    </tr>\n",
       "    <tr>\n",
       "      <th>4</th>\n",
       "      <td>1_0000015a-8bee-425e-bc96-25042a1a1cab</td>\n",
       "      <td>20</td>\n",
       "      <td>t_d2a13f32-05a8-4f7b-8633-4ed8a74ca560</td>\n",
       "      <td>False</td>\n",
       "      <td>False</td>\n",
       "      <td>True</td>\n",
       "      <td>False</td>\n",
       "      <td>0</td>\n",
       "      <td>1</td>\n",
       "      <td>0</td>\n",
       "      <td>0</td>\n",
       "      <td>0</td>\n",
       "      <td>0</td>\n",
       "      <td>False</td>\n",
       "      <td>19</td>\n",
       "      <td>2018-07-15</td>\n",
       "      <td>True</td>\n",
       "      <td>radio</td>\n",
       "      <td>fwdbtn</td>\n",
       "      <td>fwdbtn</td>\n",
       "    </tr>\n",
       "    <tr>\n",
       "      <th>5</th>\n",
       "      <td>1_0000015a-8bee-425e-bc96-25042a1a1cab</td>\n",
       "      <td>20</td>\n",
       "      <td>t_0368bff8-85c0-4162-b1ca-18c526b14d3a</td>\n",
       "      <td>False</td>\n",
       "      <td>False</td>\n",
       "      <td>True</td>\n",
       "      <td>False</td>\n",
       "      <td>0</td>\n",
       "      <td>1</td>\n",
       "      <td>0</td>\n",
       "      <td>0</td>\n",
       "      <td>0</td>\n",
       "      <td>0</td>\n",
       "      <td>False</td>\n",
       "      <td>19</td>\n",
       "      <td>2018-07-15</td>\n",
       "      <td>True</td>\n",
       "      <td>radio</td>\n",
       "      <td>fwdbtn</td>\n",
       "      <td>fwdbtn</td>\n",
       "    </tr>\n",
       "  </tbody>\n",
       "</table>\n",
       "</div>"
      ],
      "text/plain": [
       "                                              session_id  session_length  \\\n",
       "session_position                                                           \n",
       "1                 1_0000015a-8bee-425e-bc96-25042a1a1cab              20   \n",
       "2                 1_0000015a-8bee-425e-bc96-25042a1a1cab              20   \n",
       "3                 1_0000015a-8bee-425e-bc96-25042a1a1cab              20   \n",
       "4                 1_0000015a-8bee-425e-bc96-25042a1a1cab              20   \n",
       "5                 1_0000015a-8bee-425e-bc96-25042a1a1cab              20   \n",
       "\n",
       "                                          track_id_clean  skip_1  skip_2  \\\n",
       "session_position                                                           \n",
       "1                 t_f56065b2-b26f-4080-a121-ff3bf5d25fd6   False   False   \n",
       "2                 t_447a276d-5b3d-44cf-bcbe-834ad91e7b72   False   False   \n",
       "3                 t_07a8a863-2f51-4e64-ae3c-2fac451a0651   False   False   \n",
       "4                 t_d2a13f32-05a8-4f7b-8633-4ed8a74ca560   False   False   \n",
       "5                 t_0368bff8-85c0-4162-b1ca-18c526b14d3a   False   False   \n",
       "\n",
       "                  skip_3  not_skipped  context_switch  no_pause_before_play  \\\n",
       "session_position                                                              \n",
       "1                  False         True               0                     0   \n",
       "2                   True        False               0                     1   \n",
       "3                   True        False               0                     1   \n",
       "4                   True        False               0                     1   \n",
       "5                   True        False               0                     1   \n",
       "\n",
       "                  short_pause_before_play  long_pause_before_play  \\\n",
       "session_position                                                    \n",
       "1                                       0                       0   \n",
       "2                                       0                       0   \n",
       "3                                       0                       0   \n",
       "4                                       0                       0   \n",
       "5                                       0                       0   \n",
       "\n",
       "                  hist_user_behavior_n_seekfwd  hist_user_behavior_n_seekback  \\\n",
       "session_position                                                                \n",
       "1                                            0                              0   \n",
       "2                                            0                              0   \n",
       "3                                            0                              0   \n",
       "4                                            0                              0   \n",
       "5                                            0                              0   \n",
       "\n",
       "                  hist_user_behavior_is_shuffle  hour_of_day       date  \\\n",
       "session_position                                                          \n",
       "1                                         False           19 2018-07-15   \n",
       "2                                         False           19 2018-07-15   \n",
       "3                                         False           19 2018-07-15   \n",
       "4                                         False           19 2018-07-15   \n",
       "5                                         False           19 2018-07-15   \n",
       "\n",
       "                  premium context_type hist_user_behavior_reason_start  \\\n",
       "session_position                                                         \n",
       "1                    True        radio                          fwdbtn   \n",
       "2                    True        radio                       trackdone   \n",
       "3                    True        radio                          fwdbtn   \n",
       "4                    True        radio                          fwdbtn   \n",
       "5                    True        radio                          fwdbtn   \n",
       "\n",
       "                 hist_user_behavior_reason_end  \n",
       "session_position                                \n",
       "1                                    trackdone  \n",
       "2                                       fwdbtn  \n",
       "3                                       fwdbtn  \n",
       "4                                       fwdbtn  \n",
       "5                                       fwdbtn  "
      ]
     },
     "execution_count": 7,
     "metadata": {},
     "output_type": "execute_result"
    }
   ],
   "source": [
    "data.head()"
   ]
  },
  {
   "cell_type": "code",
   "execution_count": 13,
   "metadata": {},
   "outputs": [
    {
     "data": {
      "text/plain": [
       "session_id                                 object\n",
       "session_position                            int64\n",
       "session_length                              int64\n",
       "track_id_clean                             object\n",
       "skip_1                                       bool\n",
       "skip_2                                       bool\n",
       "skip_3                                       bool\n",
       "not_skipped                                  bool\n",
       "context_switch                              int64\n",
       "no_pause_before_play                        int64\n",
       "short_pause_before_play                     int64\n",
       "long_pause_before_play                      int64\n",
       "hist_user_behavior_n_seekfwd                int64\n",
       "hist_user_behavior_n_seekback               int64\n",
       "hist_user_behavior_is_shuffle                bool\n",
       "hour_of_day                                 int64\n",
       "date                               datetime64[ns]\n",
       "premium                                      bool\n",
       "context_type                               object\n",
       "hist_user_behavior_reason_start            object\n",
       "hist_user_behavior_reason_end              object\n",
       "dtype: object"
      ]
     },
     "execution_count": 13,
     "metadata": {},
     "output_type": "execute_result"
    }
   ],
   "source": [
    "#y — has the user played the song? (binary: “1”, means “Yes”, “0” means “No”)\n",
    "#to make this more clear, we just use the not_skipped variable, which is a Boolean\n",
    "data.dtypes"
   ]
  },
  {
   "cell_type": "code",
   "execution_count": 34,
   "metadata": {},
   "outputs": [],
   "source": [
    "data = data.drop(['skip_1', 'skip_2', 'skip_3'], axis=1)\n",
    "#there is a problem to be fixed fucking here"
   ]
  },
  {
   "cell_type": "code",
   "execution_count": 8,
   "metadata": {},
   "outputs": [
    {
     "data": {
      "text/plain": [
       "False    66126\n",
       "True     33873\n",
       "Name: not_skipped, dtype: int64"
      ]
     },
     "execution_count": 8,
     "metadata": {},
     "output_type": "execute_result"
    }
   ],
   "source": [
    "data['not_skipped'].value_counts()"
   ]
  },
  {
   "cell_type": "code",
   "execution_count": 9,
   "metadata": {},
   "outputs": [
    {
     "data": {
      "image/png": "[encoded data removed]",
      "text/plain": [
       "<Figure size 432x288 with 1 Axes>"
      ]
     },
     "metadata": {
      "needs_background": "light"
     },
     "output_type": "display_data"
    },
    {
     "data": {
      "text/plain": [
       "<Figure size 432x288 with 0 Axes>"
      ]
     },
     "metadata": {},
     "output_type": "display_data"
    }
   ],
   "source": [
    "sns.countplot(x='not_skipped', data=data, palette='hls')\n",
    "plt.show()\n",
    "plt.savefig('count_plot')"
   ]
  },
  {
   "cell_type": "code",
   "execution_count": 10,
   "metadata": {},
   "outputs": [
    {
     "name": "stdout",
     "output_type": "stream",
     "text": [
      "the percentage of songs skipped is 66.12666126661266\n",
      "the percentage of songs fully played is 33.87333873338733\n"
     ]
    }
   ],
   "source": [
    "count_skipped=len(data[data['not_skipped']==False])\n",
    "count_played=len(data[data['not_skipped']==True])\n",
    "pct_skipped=count_skipped/(count_skipped+count_played)\n",
    "print('the percentage of songs skipped is', pct_skipped*100)\n",
    "pct_played=count_played/(count_played+count_skipped)\n",
    "print('the percentage of songs fully played is', pct_played*100)"
   ]
  },
  {
   "cell_type": "code",
   "execution_count": 14,
   "metadata": {},
   "outputs": [
    {
     "data": {
      "text/html": [
       "<div>\n",
       "<style scoped>\n",
       "    .dataframe tbody tr th:only-of-type {\n",
       "        vertical-align: middle;\n",
       "    }\n",
       "\n",
       "    .dataframe tbody tr th {\n",
       "        vertical-align: top;\n",
       "    }\n",
       "\n",
       "    .dataframe thead th {\n",
       "        text-align: right;\n",
       "    }\n",
       "</style>\n",
       "<table border=\"1\" class=\"dataframe\">\n",
       "  <thead>\n",
       "    <tr style=\"text-align: right;\">\n",
       "      <th></th>\n",
       "      <th>session_length</th>\n",
       "      <th>skip_1</th>\n",
       "      <th>skip_2</th>\n",
       "      <th>skip_3</th>\n",
       "      <th>context_switch</th>\n",
       "      <th>no_pause_before_play</th>\n",
       "      <th>short_pause_before_play</th>\n",
       "      <th>long_pause_before_play</th>\n",
       "      <th>hist_user_behavior_n_seekfwd</th>\n",
       "      <th>hist_user_behavior_n_seekback</th>\n",
       "      <th>hist_user_behavior_is_shuffle</th>\n",
       "      <th>hour_of_day</th>\n",
       "      <th>premium</th>\n",
       "    </tr>\n",
       "    <tr>\n",
       "      <th>not_skipped</th>\n",
       "      <th></th>\n",
       "      <th></th>\n",
       "      <th></th>\n",
       "      <th></th>\n",
       "      <th></th>\n",
       "      <th></th>\n",
       "      <th></th>\n",
       "      <th></th>\n",
       "      <th></th>\n",
       "      <th></th>\n",
       "      <th></th>\n",
       "      <th></th>\n",
       "      <th></th>\n",
       "    </tr>\n",
       "  </thead>\n",
       "  <tbody>\n",
       "    <tr>\n",
       "      <th>False</th>\n",
       "      <td>17.628391</td>\n",
       "      <td>0.591114</td>\n",
       "      <td>0.745062</td>\n",
       "      <td>0.971327</td>\n",
       "      <td>0.038306</td>\n",
       "      <td>0.688988</td>\n",
       "      <td>0.175166</td>\n",
       "      <td>0.194432</td>\n",
       "      <td>0.074010</td>\n",
       "      <td>0.043538</td>\n",
       "      <td>0.313145</td>\n",
       "      <td>13.852524</td>\n",
       "      <td>0.808063</td>\n",
       "    </tr>\n",
       "    <tr>\n",
       "      <th>True</th>\n",
       "      <td>17.359224</td>\n",
       "      <td>0.000000</td>\n",
       "      <td>0.000000</td>\n",
       "      <td>0.000000</td>\n",
       "      <td>0.053405</td>\n",
       "      <td>0.753698</td>\n",
       "      <td>0.074661</td>\n",
       "      <td>0.113247</td>\n",
       "      <td>0.012222</td>\n",
       "      <td>0.074956</td>\n",
       "      <td>0.276533</td>\n",
       "      <td>13.591267</td>\n",
       "      <td>0.816698</td>\n",
       "    </tr>\n",
       "  </tbody>\n",
       "</table>\n",
       "</div>"
      ],
      "text/plain": [
       "             session_length    skip_1    skip_2    skip_3  context_switch  \\\n",
       "not_skipped                                                                 \n",
       "False             17.628391  0.591114  0.745062  0.971327        0.038306   \n",
       "True              17.359224  0.000000  0.000000  0.000000        0.053405   \n",
       "\n",
       "             no_pause_before_play  short_pause_before_play  \\\n",
       "not_skipped                                                  \n",
       "False                    0.688988                 0.175166   \n",
       "True                     0.753698                 0.074661   \n",
       "\n",
       "             long_pause_before_play  hist_user_behavior_n_seekfwd  \\\n",
       "not_skipped                                                         \n",
       "False                      0.194432                      0.074010   \n",
       "True                       0.113247                      0.012222   \n",
       "\n",
       "             hist_user_behavior_n_seekback  hist_user_behavior_is_shuffle  \\\n",
       "not_skipped                                                                 \n",
       "False                             0.043538                       0.313145   \n",
       "True                              0.074956                       0.276533   \n",
       "\n",
       "             hour_of_day   premium  \n",
       "not_skipped                         \n",
       "False          13.852524  0.808063  \n",
       "True           13.591267  0.816698  "
      ]
     },
     "execution_count": 14,
     "metadata": {},
     "output_type": "execute_result"
    }
   ],
   "source": [
    "data.groupby('not_skipped').mean()"
   ]
  },
  {
   "cell_type": "code",
   "execution_count": null,
   "metadata": {},
   "outputs": [],
   "source": [
    "#let's go for some data exploring"
   ]
  },
  {
   "cell_type": "code",
   "execution_count": 15,
   "metadata": {},
   "outputs": [
    {
     "data": {
      "image/png": "[encoded data removed]",
      "text/plain": [
       "<Figure size 432x288 with 1 Axes>"
      ]
     },
     "metadata": {
      "needs_background": "light"
     },
     "output_type": "display_data"
    }
   ],
   "source": [
    "%matplotlib inline\n",
    "pd.crosstab(data.context_type,data.not_skipped).plot(kind='bar')\n",
    "plt.title('Skipping Behavior depending on Context')\n",
    "plt.xlabel('Context')\n",
    "plt.ylabel('Skipping Behavior')\n",
    "plt.savefig('skip_per_context')\n",
    "#we can see it depends quite a bit on the context, with high skipping especially within the user library"
   ]
  },
  {
   "cell_type": "code",
   "execution_count": 16,
   "metadata": {},
   "outputs": [
    {
     "data": {
      "image/png": "[encoded data removed]",
      "text/plain": [
       "<Figure size 432x288 with 1 Axes>"
      ]
     },
     "metadata": {
      "needs_background": "light"
     },
     "output_type": "display_data"
    }
   ],
   "source": [
    "pd.crosstab(data.premium, data.not_skipped).plot(kind='bar')\n",
    "plt.title('Skipping Behavior for Premium and non Premium users')\n",
    "plt.xlabel('Premium')\n",
    "plt.ylabel('Skippin Behavior')\n",
    "plt.savefig('ski_premium')\n",
    "#we can observe a strongly different outcome based on the subscription"
   ]
  },
  {
   "cell_type": "code",
   "execution_count": 7,
   "metadata": {},
   "outputs": [
    {
     "data": {
      "text/plain": [
       "True     81098\n",
       "False    18901\n",
       "Name: premium, dtype: int64"
      ]
     },
     "execution_count": 7,
     "metadata": {},
     "output_type": "execute_result"
    }
   ],
   "source": [
    "data['premium'].value_counts()"
   ]
  },
  {
   "cell_type": "code",
   "execution_count": 11,
   "metadata": {},
   "outputs": [
    {
     "data": {
      "image/png": "[encoded data removed]",
      "text/plain": [
       "<Figure size 432x288 with 1 Axes>"
      ]
     },
     "metadata": {
      "needs_background": "light"
     },
     "output_type": "display_data"
    },
    {
     "data": {
      "text/plain": [
       "<Figure size 432x288 with 0 Axes>"
      ]
     },
     "metadata": {},
     "output_type": "display_data"
    }
   ],
   "source": [
    "sns.countplot(x='premium', data=data, palette='hls')\n",
    "plt.show()\n",
    "plt.savefig('premium_users')\n",
    "#to explain the difference between skippng behavior we take into account the distribution of premium users"
   ]
  },
  {
   "cell_type": "code",
   "execution_count": 12,
   "metadata": {},
   "outputs": [
    {
     "data": {
      "image/png": "[encoded data removed]",
      "text/plain": [
       "<Figure size 432x288 with 1 Axes>"
      ]
     },
     "metadata": {
      "needs_background": "light"
     },
     "output_type": "display_data"
    }
   ],
   "source": [
    "pd.crosstab(data.no_pause_before_play, data.not_skipped).plot(kind='bar')\n",
    "plt.title('Skipping Behavior within session')\n",
    "plt.xlabel('Pause before play')\n",
    "plt.ylabel('Skippin Behavior')\n",
    "plt.savefig('ski_premium')\n",
    "#we can observe that after a pause the songs are skipped more "
   ]
  },
  {
   "cell_type": "code",
   "execution_count": 15,
   "metadata": {},
   "outputs": [
    {
     "data": {
      "image/png": "[encoded data removed]",
      "text/plain": [
       "<Figure size 432x288 with 1 Axes>"
      ]
     },
     "metadata": {
      "needs_background": "light"
     },
     "output_type": "display_data"
    },
    {
     "data": {
      "text/plain": [
       "<Figure size 432x288 with 0 Axes>"
      ]
     },
     "metadata": {},
     "output_type": "display_data"
    }
   ],
   "source": [
    "sns.countplot(x='no_pause_before_play', data=data, palette='hls')\n",
    "plt.show()\n",
    "plt.savefig('no_pause_before_play')\n",
    "#much more pauses "
   ]
  },
  {
   "cell_type": "code",
   "execution_count": 13,
   "metadata": {},
   "outputs": [
    {
     "data": {
      "image/png": "[encoded data removed]",
      "text/plain": [
       "<Figure size 432x288 with 1 Axes>"
      ]
     },
     "metadata": {
      "needs_background": "light"
     },
     "output_type": "display_data"
    }
   ],
   "source": [
    "pd.crosstab(data.long_pause_before_play, data.not_skipped).plot(kind='bar')\n",
    "plt.title('Skipping Behavior after long pause')\n",
    "plt.xlabel('Long pause before play')\n",
    "plt.ylabel('Skippin Behavior')\n",
    "plt.savefig('skip_long_pause')\n",
    "#less likely to skip after "
   ]
  },
  {
   "cell_type": "code",
   "execution_count": 16,
   "metadata": {},
   "outputs": [
    {
     "data": {
      "image/png": "[encoded data removed]",
      "text/plain": [
       "<Figure size 432x288 with 1 Axes>"
      ]
     },
     "metadata": {
      "needs_background": "light"
     },
     "output_type": "display_data"
    }
   ],
   "source": [
    "pd.crosstab(data.hour_of_day, data.not_skipped).plot(kind='bar')\n",
    "plt.title('Skipping Behavior during the day')\n",
    "plt.xlabel('Hour of the Day')\n",
    "plt.ylabel('Skipping Behavior')\n",
    "plt.savefig('skip_hour_day')\n",
    "#we can observe a clearly increasing trend from 7 that reaches the peak at 17 and then decreases again, let's how the usage is distributed"
   ]
  },
  {
   "cell_type": "code",
   "execution_count": 18,
   "metadata": {},
   "outputs": [
    {
     "data": {
      "image/png": "[encoded data removed]",
      "text/plain": [
       "<Figure size 432x288 with 1 Axes>"
      ]
     },
     "metadata": {
      "needs_background": "light"
     },
     "output_type": "display_data"
    },
    {
     "data": {
      "text/plain": [
       "<Figure size 432x288 with 0 Axes>"
      ]
     },
     "metadata": {},
     "output_type": "display_data"
    }
   ],
   "source": [
    "sns.countplot(x='hour_of_day', data=data, palette='hls')\n",
    "plt.show()\n",
    "plt.savefig('hours')\n",
    "#we observe that the usage during the day totally reflects the skipping behavior, thus hour of the day is not a good predictor"
   ]
  },
  {
   "cell_type": "code",
   "execution_count": null,
   "metadata": {},
   "outputs": [],
   "source": [
    "#time to move on to real shit, i.e. define x and y \n",
    "X = df[['session_id', 'session_length', 'track_id_clean', 'skip_1', 'skip_2', 'skip_3',\n",
    "        'context_switch', 'no_pause_before_play', 'short_pause_before_play', 'long_pause_before_play',\n",
    "        'hist_user_behavior_n_seekfwd', 'hist_user_behavior_n_seekback', 'hist_user_behavior_is_shuffle',\n",
    "        'hour_of_day', 'date', 'premium', 'context_type', 'hist_user_behavior_reason_start', \n",
    "        'hist_user_behavior_reason_end']]\n",
    "Y = df['not_skipped']"
   ]
  }
 ],
 "metadata": {
  "kernelspec": {
   "display_name": "Python 3",
   "language": "python",
   "name": "python3"
  },
  "language_info": {
   "codemirror_mode": {
    "name": "ipython",
    "version": 3
   },
   "file_extension": ".py",
   "mimetype": "text/x-python",
   "name": "python",
   "nbconvert_exporter": "python",
   "pygments_lexer": "ipython3",
   "version": "3.7.3"
  }
 },
 "nbformat": 4,
 "nbformat_minor": 2
}
